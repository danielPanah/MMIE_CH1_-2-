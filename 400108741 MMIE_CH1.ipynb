{
 "cells": [
  {
   "cell_type": "markdown",
   "metadata": {
    "id": "6DjNbXa-VC9M"
   },
   "source": [
    "<h1 align=\"center\">Mathematical Methods In Engineering - 25872</h1>\n",
    "<h4 align=\"center\">Dr. Amiri</h4>\n",
    "<h4 align=\"center\">Sharif University of Technology, Fall 2023</h4>\n",
    "<h4 align=\"center\">Python Assignment 1</h4>\n",
    "<h4 align=\"center\">feel free to ask your questions via telegram,\n",
    "\n",
    "questions 1,4 : @BeNameBalasari and questions 2,3,5 : @maahmoradi"
   ]
  },
  {
   "cell_type": "markdown",
   "metadata": {},
   "source": [
    "You should write your code in the <font color='green'>Code Cell</font> and then run the <font color='green'>Evaluation Cell</font> to check the output of your code.<br>\n",
    "<font color='red'>**Please do not edit the existing codes.**</font>"
   ]
  },
  {
   "cell_type": "markdown",
   "metadata": {
    "id": "bggG3YqIVC9U"
   },
   "source": [
    "## 1. Introduction to matrices\n",
    "In this question, we want to get familiar with performing simple matrix operations and obtaining special features of matrices in Python <br>\n",
    "#### 1-1-  Vector P-Norm\n",
    " Let $p\\geq 1$  be  a real   number . The  p-norm ( also called \n",
    "$\\ell ^{p}$-norm) of  vector \n",
    "${\\displaystyle \\mathbf {x} =(x_{1},\\ldots ,x_{n})}$  is : \n",
    "${\\displaystyle \\|\\mathbf {x} \\|_{p}:=\\left(\\sum _{i=1}^{n}\\left|x_{i}\\right|^{p}\\right)^{1/p}}$ and\n",
    "${\\displaystyle \\|\\mathbf {x} \\|_{\\infty}:=max(|x_1| , |x_2| , \\cdots ,|x_n|)}$ \n",
    "> Write a function that takes a vector and p as input and gives p-norm as output then use it to calculate the norm-3 of the  following vector ( if the p is np.inf the function should give the infinity norm of the matrix ) :\n",
    "$$\n",
    "x = \\left(\\begin{array}{cc} \n",
    "-3.0\\\\ 1.0 \\\\2.0\n",
    "\\end{array}\\right)\n",
    "$$\n",
    "> then use np.linalg.norm to check your answer "
   ]
  },
  {
   "cell_type": "code",
   "execution_count": 2,
   "metadata": {},
   "outputs": [],
   "source": [
    "# import required packages\n",
    "import numpy as np\n",
    "import math"
   ]
  },
  {
   "cell_type": "code",
   "execution_count": 7,
   "metadata": {
    "id": "ZzFnxtOIVC9W"
   },
   "outputs": [
    {
     "name": "stdout",
     "output_type": "stream",
     "text": [
      "The 3-norm of the vector [-3, 1, 2] is 3.30\n",
      "The 3-norm of the vector [-3, 1, 2] is 3.30\n"
     ]
    }
   ],
   "source": [
    "# Code cell\n",
    "def pnorm(x, p):\n",
    "    sum = 0\n",
    "    for elements in x:\n",
    "        sum += abs(elements) ** p\n",
    "    \n",
    "    p_norm = sum ** (1/p)\n",
    "\n",
    "    return p_norm\n",
    "    \n",
    "    pass\n",
    "\n",
    "vector = [-3, 1, 2]\n",
    "p_value = 3\n",
    "result = pnorm(vector, p_value)\n",
    "print(f\"The {p_value}-norm of the vector {vector} is {result:.2f}\")\n",
    "result2 = np.linalg.norm(vector, ord=p_value, axis=None, keepdims=False)\n",
    "print(f\"The {p_value}-norm of the vector {vector} is {result2:.2f}\")"
   ]
  },
  {
   "cell_type": "markdown",
   "metadata": {},
   "source": [
    "#### 1-2- Matrix Norm\n",
    " The \n",
    " operator  norm of matrix $ \\mathbf{A}  $ is : \n",
    "${\\displaystyle \\|\\mathbf {A} \\|:=\\max\\limits_{x\\neq 0}\\left(\\frac{||Ax||}{||x||}\\right)}$\n",
    "\n",
    "and  The Frobenius  norm  is defined  so \n",
    "that   for  every  square  matrix $ \\mathbf{A} $ : ${\\displaystyle \\|\\mathbf {A} \\|_F:=\\left(\\sum_{i,j=1}^{n}(|a_{ij}|^2)\\right)^\\frac{1}{2}}$\n",
    "\n",
    "> Write a function that takes a Matrix  as input and gives frobenius norm as output then use it to calculate the norm of the  following Matrix :\n",
    "$$\n",
    "A = \\begin{bmatrix}\n",
    "    7 & 5 & 1\\\\\n",
    "    1 & 7 & 1\\\\\n",
    "    5 & 5 & 7\n",
    "\\end{bmatrix}\n",
    "$$\n",
    "> then use np.linalg.norm to check your answer and use it to calculate the operator norm of A "
   ]
  },
  {
   "cell_type": "code",
   "execution_count": 12,
   "metadata": {},
   "outputs": [
    {
     "name": "stdout",
     "output_type": "stream",
     "text": [
      "The f-norm of the matrix [[7, 5, 1], [1, 7, 1], [5, 5, 7]] is 15.00\n",
      "The f-norm of the matrix [[7, 5, 1], [1, 7, 1], [5, 5, 7]] is 15.00\n"
     ]
    }
   ],
   "source": [
    "# Code cell\n",
    "def fnorm(A):\n",
    "    \n",
    "    sum = 0\n",
    "    for row in A:\n",
    "        for element in row:\n",
    "            sum += abs(element) ** 2\n",
    "    \n",
    "    f_norm = sum ** (1/2)\n",
    "    #f_norm = np.sqrt(sum)\n",
    "    \n",
    "    return f_norm\n",
    "        \n",
    "    pass\n",
    "\n",
    "matrix = [\n",
    "    [7, 5, 1],\n",
    "    [1, 7, 1],\n",
    "    [5, 5, 7]\n",
    "]\n",
    "result3 = fnorm(matrix)\n",
    "print(f\"The f-norm of the matrix {matrix} is {result3:.2f}\")\n",
    "result4 = np.linalg.norm(matrix, ord=None, axis=None, keepdims=False)\n",
    "print(f\"The f-norm of the matrix {matrix} is {result4:.2f}\")"
   ]
  },
  {
   "cell_type": "markdown",
   "metadata": {},
   "source": [
    "#### 1-3- Matrix Determinant And Matrix inverse \n",
    "Laplace expansion expresses the determinant of a matrix \n",
    "A recursively in terms of determinants of smaller matrices, known as its minors. The minor \n",
    ", $M_{i,j}$ is defined to be the determinant of the \n",
    "${\\displaystyle (n-1)\\times (n-1)}$ matrix that results from \n",
    "A by removing the \n",
    "i-th row and the \n",
    "j-th column. The expression \n",
    "${\\displaystyle (-1)^{i+j}M_{i,j}}$  is known as a cofactor. For every \n",
    "i, one has the equality :\n",
    "$$\n",
    "det(\\mathbf{A})=\\sum_{j=1}^n\\left((-1)^{i+j}a_{ij}M_{ij}\\right)\n",
    "$$\n",
    "> Write a function that takes a Matrix  as input and gives Determinant as output then use it to calculate the Determinant of the  following Matrix :\n",
    "$$\n",
    "A = \\begin{bmatrix}\n",
    "    7 & 5 & 1\\\\\n",
    "    1 & 7 & 1\\\\\n",
    "    5 & 5 & 7\n",
    "\\end{bmatrix}\n",
    "$$\n",
    "> then use np.linalg.det to check your answer "
   ]
  },
  {
   "cell_type": "code",
   "execution_count": 26,
   "metadata": {},
   "outputs": [
    {
     "name": "stdout",
     "output_type": "stream",
     "text": [
      "268\n",
      "267.99999999999994\n"
     ]
    }
   ],
   "source": [
    "# Code cell\n",
    "def det(A):\n",
    "    \n",
    "    if len(A)==1:\n",
    "        result = A[0][0]\n",
    "    else:\n",
    "        i = 0\n",
    "        result = 0\n",
    "        for row in A:\n",
    "            result = result + det(eliminator(A,i))*(A[i][0])*((-1) ** (i))\n",
    "            i = i + 1\n",
    "    return result\n",
    "        \n",
    "    pass\n",
    "def eliminator(A,i):\n",
    "    new_matrix = np.delete(A, i, axis=0)\n",
    "    new_matrix = np.delete(new_matrix, 0, axis=1)\n",
    "    return new_matrix\n",
    "    \n",
    "    pass\n",
    "\n",
    "matrix = [\n",
    "    [7, 5, 1],\n",
    "    [1, 7, 1],\n",
    "    [5, 5, 7]\n",
    "]\n",
    "print(det(matrix))\n",
    "print(np.linalg.det(matrix))  "
   ]
  },
  {
   "cell_type": "markdown",
   "metadata": {},
   "source": [
    "The inverse of a Matrix is defined as : \n",
    "$$\n",
    "\\mathbf{A}^{-1}=\\frac{adj(A)}{det(A)}\n",
    "$$\n",
    "The adjugate of $\\mathbf{A} \\ adj(\\mathbf{A})$ is the transpose of $\\mathbf{C}$, that is, the n × n matrix whose (i, j) entry is the (j, i) cofactor of A,\n",
    "$$\n",
    "adj(\\mathbf{A})=\\mathbf{C}^T=\\left((-1)^{i+j}M_{ji}\\right)_{1 \\leq i,j \\leq n}\n",
    "$$\n",
    "> Write a function that takes a Matrix  as input and gives inverse of Matrix as output then use it to calculate the inverse of the  following Matrix :\n",
    "$$\n",
    "A = \\begin{bmatrix}\n",
    "    7 & 5 & 1\\\\\n",
    "    1 & 7 & 1\\\\\n",
    "    5 & 5 & 7\n",
    "\\end{bmatrix}\n",
    "$$\n",
    "> then use np.linalg.inv to check your answer "
   ]
  },
  {
   "cell_type": "code",
   "execution_count": 51,
   "metadata": {},
   "outputs": [
    {
     "name": "stdout",
     "output_type": "stream",
     "text": [
      "[[ 0.1641791   0.1119403  -0.00746269]\n",
      " [ 0.00746269  0.1641791   0.02238806]\n",
      " [-0.1119403   0.03731343  0.1641791 ]]\n",
      "[[ 0.1641791  -0.1119403  -0.00746269]\n",
      " [-0.00746269  0.1641791  -0.02238806]\n",
      " [-0.1119403  -0.03731343  0.1641791 ]]\n"
     ]
    }
   ],
   "source": [
    "# Code cell\n",
    "def inv(A):\n",
    "    \n",
    "    x = np.linalg.det(A)\n",
    "    num_rows, num_cols = A.shape\n",
    "    B = np.zeros((num_rows, num_cols), dtype=float)\n",
    "    for i in range(num_rows):\n",
    "        for j in range(num_cols):\n",
    "            B[i][j] = ((m_calculator(A,j,i))/x)\n",
    "    \n",
    "    return B    \n",
    "    pass\n",
    "\n",
    "def m_calculator(A,i,j):\n",
    "    new_matrix = np.delete(A, i, axis=0)\n",
    "    new_matrix = np.delete(new_matrix, j, axis=1)\n",
    "    return np.linalg.det(new_matrix)\n",
    "    pass\n",
    "\n",
    "matrix = np.array([\n",
    "    [7, 5, 1],\n",
    "    [1, 7, 1],\n",
    "    [5, 5, 7]\n",
    "])\n",
    "print(inv(matrix))\n",
    "print(np.linalg.inv(matrix))\n",
    "    "
   ]
  },
  {
   "cell_type": "markdown",
   "metadata": {},
   "source": [
    "## 2. Gauss-Jordan elimination\n",
    "#### 2-1-  Implementation\n",
    "The Gauss-Jordan Elimination method is an algorithm to solve a linear system of equations. This method solves the system by representing it as an augmented matrix, reducing it using row operations, and expressing the system in reduced row-echelon form to find the values of the variables. \\\n",
    "The function gauss_jordan_elimination takes two arguments: the matrix A representing the coefficients of the equations, and the vector b representing the constants on the right-hand side of the equations. It sets flag to 1 and returns the solution vector x if exists, else sets flag to 0 in case of 'No Solution' or 'Infinite Solutions' and prints the corresponding case.\n",
    "\n",
    "Here's an example of a system of equations $\\textbf{Ax = b}$\n",
    "\n",
    "the inputs of the function :\n",
    "\n",
    "$$\n",
    "A = \\begin{bmatrix}\n",
    "    2  & 1  & 5 \\\\\n",
    "    4  & 4  & -4 \\\\\n",
    "    1 & 3 & 1 \n",
    "\\end{bmatrix}\n",
    "$$\n",
    "\n",
    "$$\n",
    "b = \\begin{bmatrix}\n",
    "    8  \\\\\n",
    "    4  \\\\\n",
    "    5 \n",
    "\\end{bmatrix}\n",
    "$$\n",
    "\n",
    "the corresponding output :\n",
    "\n",
    "$$\n",
    "x = \\begin{bmatrix}\n",
    "    1  \\\\\n",
    "    1  \\\\\n",
    "    1 \n",
    "\\end{bmatrix}\n",
    "$$"
   ]
  },
  {
   "cell_type": "code",
   "execution_count": 1,
   "metadata": {},
   "outputs": [],
   "source": [
    "# import required packages\n",
    "import numpy as np\n",
    "import time"
   ]
  },
  {
   "cell_type": "code",
   "execution_count": 19,
   "metadata": {},
   "outputs": [
    {
     "name": "stdout",
     "output_type": "stream",
     "text": [
      "flag = 1 x = [3.8461538461538463, 0.9230769230769234, 1.230769230769231]\n"
     ]
    },
    {
     "data": {
      "text/plain": [
       "([3.8461538461538463, 0.9230769230769234, 1.230769230769231], 1)"
      ]
     },
     "execution_count": 19,
     "metadata": {},
     "output_type": "execute_result"
    }
   ],
   "source": [
    "# Code cell\n",
    "def gauss_jordan_elimination(A, b):\n",
    "    \n",
    "    augmented_matrix = [row + [bi] for row, bi in zip(A, b)]\n",
    "    rows, cols = len(augmented_matrix), len(augmented_matrix[0])\n",
    "\n",
    "    for i in range(rows):\n",
    "        pivot_idx = max(range(i, rows), key=lambda j: abs(augmented_matrix[j][i]))\n",
    "        augmented_matrix[i], augmented_matrix[pivot_idx] = augmented_matrix[pivot_idx], augmented_matrix[i]\n",
    "\n",
    "        pivot_value = augmented_matrix[i][i]\n",
    "        if abs(pivot_value) < 1e-10:\n",
    "            print(\"flag = 0, No unique solution\")\n",
    "            return None, 0\n",
    "        augmented_matrix[i] = [elem / pivot_value for elem in augmented_matrix[i]]\n",
    "\n",
    "        for j in range(rows):\n",
    "            if i != j:\n",
    "                ratio = augmented_matrix[j][i]\n",
    "                augmented_matrix[j] = [elem_j - ratio * elem_i for elem_i, elem_j in zip(augmented_matrix[i], augmented_matrix[j])]\n",
    "\n",
    "    if all(row[:-1] == [0] * (cols - 1) and row[-1] != 0 for row in augmented_matrix):\n",
    "        print(\"flag = 0, No Solution\")\n",
    "        return None, 0\n",
    "    elif all(row[:-1] == [0] * (cols - 1) and row[-1] == 0 for row in augmented_matrix):\n",
    "        print(\"flag = 0, Infinite Solutions\")\n",
    "        return None, 0\n",
    "    else:\n",
    "        x = [row[-1] for row in augmented_matrix]\n",
    "        print(\"flag = 1 x =\", x)\n",
    "        flag = 1\n",
    "\n",
    "    return x, flag\n",
    "\n",
    "A = [[2, -1, 1], [1, 1, 1], [1, 2, -3]]\n",
    "b = [8, 6, 2]\n",
    "\n",
    "gauss_jordan_elimination(A, b)"
   ]
  },
  {
   "cell_type": "code",
   "execution_count": 20,
   "metadata": {},
   "outputs": [
    {
     "name": "stdout",
     "output_type": "stream",
     "text": [
      "flag = 1 x = [0.0, 0.0, 0.0, 0.0, 0.0, 0.0, 0.0, 0.0, 0.0, 1.0]\n"
     ]
    },
    {
     "ename": "AssertionError",
     "evalue": "Ax = b is not satisfied",
     "output_type": "error",
     "traceback": [
      "\u001b[1;31m---------------------------------------------------------------------------\u001b[0m",
      "\u001b[1;31mAssertionError\u001b[0m                            Traceback (most recent call last)",
      "Cell \u001b[1;32mIn[20], line 11\u001b[0m\n\u001b[0;32m      9\u001b[0m x, flag \u001b[38;5;241m=\u001b[39m gauss_jordan_elimination(A,b)\n\u001b[0;32m     10\u001b[0m \u001b[38;5;28;01massert\u001b[39;00m flag \u001b[38;5;241m==\u001b[39m \u001b[38;5;241m1\u001b[39m, \u001b[38;5;124m\"\u001b[39m\u001b[38;5;124mflag\u001b[39m\u001b[38;5;124m'\u001b[39m\u001b[38;5;124ms not set correctly\u001b[39m\u001b[38;5;124m\"\u001b[39m\n\u001b[1;32m---> 11\u001b[0m \u001b[38;5;28;01massert\u001b[39;00m np\u001b[38;5;241m.\u001b[39mlinalg\u001b[38;5;241m.\u001b[39mnorm(A \u001b[38;5;241m@\u001b[39m x \u001b[38;5;241m-\u001b[39m b) \u001b[38;5;241m<\u001b[39m \u001b[38;5;241m1e-7\u001b[39m, \u001b[38;5;124m\"\u001b[39m\u001b[38;5;124mAx = b is not satisfied\u001b[39m\u001b[38;5;124m\"\u001b[39m\n\u001b[0;32m     12\u001b[0m \u001b[38;5;28mprint\u001b[39m(\u001b[38;5;124mf\u001b[39m\u001b[38;5;124m'\u001b[39m\u001b[38;5;124mstatus: successful, time elapsed: \u001b[39m\u001b[38;5;132;01m{\u001b[39;00mnp\u001b[38;5;241m.\u001b[39mround(elapsed,\u001b[38;5;250m \u001b[39m\u001b[38;5;241m5\u001b[39m)\u001b[38;5;132;01m}\u001b[39;00m\u001b[38;5;124m seconds\u001b[39m\u001b[38;5;124m'\u001b[39m)\n\u001b[0;32m     13\u001b[0m b \u001b[38;5;241m=\u001b[39m np\u001b[38;5;241m.\u001b[39mrandom\u001b[38;5;241m.\u001b[39mrandint(\u001b[38;5;241m100\u001b[39m, size\u001b[38;5;241m=\u001b[39m(\u001b[38;5;241m10\u001b[39m))\n",
      "\u001b[1;31mAssertionError\u001b[0m: Ax = b is not satisfied"
     ]
    }
   ],
   "source": [
    "# Evaluation Cell\n",
    "n = 10\n",
    "A = np.zeros((10,10))\n",
    "b = np.random.randint(100, size=(10))\n",
    "while np.linalg.matrix_rank(A) != n:\n",
    "  A = np.random.randint(0,100,(n, n))\n",
    "s = time.time()\n",
    "elapsed = time.time() - s\n",
    "x, flag = gauss_jordan_elimination(A,b)\n",
    "assert flag == 1, \"flag's not set correctly\"\n",
    "assert np.linalg.norm(A @ x - b) < 1e-7, \"Ax = b is not satisfied\"\n",
    "print(f'status: successful, time elapsed: {np.round(elapsed, 5)} seconds')\n",
    "b = np.random.randint(100, size=(10))\n",
    "A = np.random.randint(0, 100, (n, n))\n",
    "U, S, V = np.linalg.svd(A)\n",
    "r = 9\n",
    "S[r:] = 0\n",
    "A = U.dot(np.diag(S)).dot(V)\n",
    "b = np.random.randint(100, size=(10))\n",
    "s = time.time()\n",
    "elapsed = time.time() - s\n",
    "x, flag = gauss_jordan_elimination(A,b)\n",
    "assert flag == 0, \"flag's not set correctly\"\n",
    "print(f'status: successful, time elapsed: {np.round(elapsed, 5)} seconds')"
   ]
  },
  {
   "cell_type": "markdown",
   "metadata": {},
   "source": [
    "## 3. Statistics on random matrices\n",
    "\n",
    "On average, a random matrix is invertible. But what if the random matrix has entries that are either 0 or 1 with equal probability? What is the probability that a 5 by 5 matrix whose entries are all zeros or ones is singular? And what is the average number of pivot columns? That is what you will find out in this exercise.\n",
    "\n",
    "Create random integer matrices whose entries are either 0 or 1. To find the number of pivot columns of a matrix A, complete the function getrank below.\n"
   ]
  },
  {
   "cell_type": "code",
   "execution_count": 66,
   "metadata": {},
   "outputs": [],
   "source": [
    "# Code cell\n",
    "def getrank(A):\n",
    "\n",
    "    A = A.astype(float)  # Convert to float to handle division\n",
    "    num_rows, num_cols = A.shape\n",
    "\n",
    "    rank = 0\n",
    "\n",
    "    for i in range(num_cols):\n",
    "        pivot_row = rank\n",
    "        while pivot_row < num_rows and A[pivot_row, i] == 0:\n",
    "            pivot_row += 1\n",
    "\n",
    "        if pivot_row == num_rows:\n",
    "            continue\n",
    " \n",
    "        A[[rank, pivot_row]] = A[[pivot_row, rank]]\n",
    "    \n",
    "        A[rank] /= A[rank, i]\n",
    "\n",
    "        for j in range(num_rows):\n",
    "            if j != rank and A[j, i] != 0:\n",
    "                A[j] -= A[rank] * A[j, i]\n",
    "\n",
    "        rank += 1\n",
    "\n",
    "    return rank \n"
   ]
  },
  {
   "cell_type": "code",
   "execution_count": 70,
   "metadata": {},
   "outputs": [
    {
     "name": "stdout",
     "output_type": "stream",
     "text": [
      "[4.3, 62.7]\n"
     ]
    }
   ],
   "source": [
    "# Code cell\n",
    "\n",
    "import random\n",
    "\n",
    "num = 100000;  # Number of random trials \n",
    "n = 5  # Size of matrix\n",
    "\n",
    "\n",
    "# (avg number of pivots, probability of being singular)\n",
    "# in the format [a.b,c.d] where you rounded the answer to one decimal place.\n",
    "\n",
    "sumOfPivotes = 0;\n",
    "numberOfSingular = 0;\n",
    "\n",
    "for i in range(1,num+1):\n",
    "    B = np.zeros((n,n))\n",
    "    for j in range(0,n):\n",
    "        for k in range(0,n):\n",
    "            B[j][k] = random.randint(0, 1)\n",
    "    \n",
    "    sumOfPivotes += getrank(B)\n",
    "    if getrank(B)!=n:\n",
    "        numberOfSingular += 1\n",
    "    \n",
    "output1 = sumOfPivotes / num\n",
    "output2 = (numberOfSingular / num) * 100\n",
    "\n",
    "#print(output1)\n",
    "#print(output2)\n",
    "\n",
    "formatted_result = \"[{:.1f}, {:.1f}]\".format(output1, output2)\n",
    "print(formatted_result)\n"
   ]
  },
  {
   "cell_type": "markdown",
   "metadata": {},
   "source": [
    "We've looked at random matrices whose entries are 0 or 1. But how does size effect the rank and the probability of being singular? Repeat the previous exercise for 10 by 10 matrices with entries that are 0 or 1.\n",
    "\n",
    "Explore and plot the probability of singularity and the average number of pivots for different sizes of random matrices. Can you determine how this probability depends on the size of the matrix? You might try to find the probability of a 10 by 10 random matrix with entries 0 or 1 has rank 10, 9, 8, 7 etc. You can check your probabilities against the expected value to see if your probabilities match your observations. You might try to connect these probabilities with determinant formulas to see if you can predict the numbers from other formulas and prove a relationship. Happy explorations!\n",
    "\n",
    " guess what happens as $n \\rightarrow \\infty $\n",
    ", but only run up to 80"
   ]
  },
  {
   "cell_type": "code",
   "execution_count": 81,
   "metadata": {},
   "outputs": [
    {
     "name": "stdout",
     "output_type": "stream",
     "text": [
      "[4.328, 9.686, 20.0, 39.992, 79.978]\n",
      "[57.99999999999999, 30.0, 0.0, 0.4, 0.4]\n"
     ]
    },
    {
     "data": {
      "image/png": "[encoded data removed]",
      "text/plain": [
       "<Figure size 640x480 with 1 Axes>"
      ]
     },
     "metadata": {},
     "output_type": "display_data"
    },
    {
     "name": "stdout",
     "output_type": "stream",
     "text": [
      "[0, 0, 0, 0, 0, 0, 0, 0, 7, 159, 334]\n"
     ]
    },
    {
     "data": {
      "image/png": "[encoded data removed]",
      "text/plain": [
       "<Figure size 640x480 with 1 Axes>"
      ]
     },
     "metadata": {},
     "output_type": "display_data"
    },
    {
     "name": "stdout",
     "output_type": "stream",
     "text": [
      "[41.199999999999996, 73.0, 100.0, 100.0, 100.0]\n"
     ]
    },
    {
     "data": {
      "image/png": "[encoded data removed]",
      "text/plain": [
       "<Figure size 640x480 with 1 Axes>"
      ]
     },
     "metadata": {},
     "output_type": "display_data"
    }
   ],
   "source": [
    "# Code cell\n",
    "import matplotlib.pyplot as plt\n",
    "\n",
    "nvalues = [5,10,20,40,80]\n",
    "num = 500\n",
    "avvalues = [0,0,0,0,0]\n",
    "prvalues = [0,0,0,0,0]\n",
    "p = 0\n",
    "for n in nvalues :\n",
    "    sumOfPivotes = 0;\n",
    "    numberOfSingular = 0;\n",
    "    for i in range(1,num+1):\n",
    "        B = np.zeros((n,n))\n",
    "        for j in range(0,n):\n",
    "            for k in range(0,n):\n",
    "                B[j][k] = random.randint(0, 1)\n",
    "    \n",
    "        sumOfPivotes += getrank(B)\n",
    "        if getrank(B)!=n:\n",
    "            numberOfSingular += 1\n",
    "    \n",
    "    avvalues[p] = sumOfPivotes / num\n",
    "    prvalues[p] = (numberOfSingular / num) * 100\n",
    "    p = p + 1\n",
    "\n",
    "print(avvalues)\n",
    "print(prvalues)\n",
    "\n",
    "categories = ['5', '10', '20', '40', '80']\n",
    "values1 = avvalues\n",
    "values2 = prvalues\n",
    "bar_width = 0.35\n",
    "indices = np.arange(len(categories))\n",
    "plt.bar(indices - bar_width/2, values1, bar_width, label='number of pivots', color='blue')\n",
    "plt.bar(indices + bar_width/2, values2, bar_width, label='percentage of singularity', color='orange')\n",
    "plt.xlabel('Categories')\n",
    "plt.ylabel('Values')\n",
    "plt.title('test of different size')\n",
    "plt.xticks(indices, categories)\n",
    "plt.legend()\n",
    "plt.show()\n",
    "\n",
    "n = 10\n",
    "listOfPivots = [0,0,0,0,0,0,0,0,0,0,0]\n",
    "for i in range(1,num+1):\n",
    "    B = np.zeros((n,n))\n",
    "    for j in range(0,n):\n",
    "        for k in range(0,n):\n",
    "            B[j][k] = random.randint(0, 1)\n",
    "    listOfPivots[getrank(B)] += 1\n",
    "    \n",
    "print(listOfPivots)\n",
    "\n",
    "categories = ['0', '1', '2', '3', '4' ,'5', '6', '7', '8', '9' , '10']\n",
    "values1 = listOfPivots\n",
    "bar_width = 0.35\n",
    "indices = np.arange(len(categories))\n",
    "plt.bar(indices - bar_width/2, values1, bar_width, label='number of pivots', color='red')\n",
    "plt.xlabel('Categories')\n",
    "plt.ylabel('Values')\n",
    "plt.title('number of pivots for size 10')\n",
    "plt.xticks(indices, categories)\n",
    "plt.legend()\n",
    "plt.show()\n",
    "    \n",
    "prNonSingulars = [0,0,0,0,0]\n",
    "p = 0\n",
    "for n in nvalues :\n",
    "    numberOfNonSingulars = 0\n",
    "    for i in range(1,num+1):\n",
    "        B = np.zeros((n,n))\n",
    "        for j in range(0,n):\n",
    "            for k in range(0,n):\n",
    "                B[j][k] = random.randint(0, 1)\n",
    "        \n",
    "        determinant = np.linalg.det(B)\n",
    "        if determinant!=0:\n",
    "            numberOfNonSingulars += 1\n",
    "    \n",
    "    prNonSingulars[p] = (numberOfNonSingulars / num)*100\n",
    "    p = p + 1\n",
    "\n",
    "print(prNonSingulars)\n",
    "\n",
    "categories = ['5', '10', '20', '40', '80']\n",
    "values1 = prNonSingulars\n",
    "bar_width = 0.35\n",
    "indices = np.arange(len(categories))\n",
    "plt.bar(indices - bar_width/2, values1, bar_width, label='percentage of non-singulars', color='green')\n",
    "plt.xlabel('Categories')\n",
    "plt.ylabel('Values')\n",
    "plt.title('percentage of non-singulars')\n",
    "plt.xticks(indices, categories)\n",
    "plt.legend()\n",
    "plt.show()"
   ]
  },
  {
   "cell_type": "markdown",
   "metadata": {},
   "source": [
    "## 4. Application of Cholesky decomposition\n",
    "#### 4-1-  Cholesky decomposition\n",
    "In linear algebra, LU decomposition factors a matrix ($\\textbf{A} :n \\times n$) as the product of a lower triangular matrix ($\\textbf{L} :n \\times n$) and an upper triangular matrix ($\\textbf{U} :n \\times n$). The product sometimes includes a permutation matrix ($\\textbf{P} :n \\times n$) as well.\n",
    "$$ \\textbf{PA} = \\textbf{LU} $$\n",
    "We know that the elements on the main diagonal of the $\\textbf{U}$ are the pivots. So $\\textbf{U}$ can be decomposed into a diagonal matrix ($\\textbf{D} :n \\times n$) with elements whose pivots are on the main diagonal and a normalized $\\textbf{U}$ matrix.\n",
    "$$ \\textbf{PA} = \\textbf{LDU}  $$\n",
    "if the A is symmetric then we have the Cholesky decomposition :\n",
    "$$\n",
    "\\mathbf{A}^T=\\mathbf{A} \\longrightarrow \\mathbf{A} =LD^\\frac{1}{2}D^\\frac{1}{2} L^T= (LD^\\frac{1}{2})(LD^\\frac{1}{2})^T=L'{L'} ^T\n",
    "$$\n",
    "There are various methods for calculating the Cholesky decomposition one of them is $\\bold{Cholesky–Banachiewicz}$ algorithm :\n",
    "$$\n",
    "A=LL^T=\\begin{bmatrix}\n",
    "    L_{11}& 0 & 0\\\\\n",
    "    L_{21} & L_{22} & 0\\\\\n",
    "    L_{31}  & L_{32}  & L_{33} \n",
    "\\end{bmatrix}\\begin{bmatrix}\n",
    "    L_{11}  & L_{21}  & L_{31} \\\\\n",
    "    0  & L_{22}  & L_{32} \\\\\n",
    "    0 & 0 & L_{33} \n",
    "\\end{bmatrix}=\\begin{bmatrix}\n",
    "    L_{11}^2  &   & (symmetric) \\\\\n",
    "    L_{21}L_{11}  & L_{21}^2+L_{22}^2  &  \\\\\n",
    "    L_{31}L_{11}& L_{31}L_{21}+L_{32}L_{22}& L_{33}^2+L_{32}^2+L_{31}^2 \n",
    "\\end{bmatrix}\n",
    "$$\n",
    "\n",
    "and therefore the following formulas for the entries of L:\n",
    "\n",
    "$$\n",
    "L_{jj}=\\sqrt{A_{jj}-\\sum_{k=1}^{j-1}L_{jk}^2} \\\\\n",
    "\\\\\n",
    "L_{i,j}=\\frac{\\left(A_{ij}-\\sum_{k=1}^{j-1}L_{jk}L_{ik}\\right)}{L_{jj}} \\  \\ for \\ \\ i>j\n",
    "$$\n",
    "\n",
    "> Use this algorithm to write a function that takes a matrix and gives its cholesky decomposition. also print the output for the following matrix :\n",
    "$$\n",
    "\\mathbf{C}=\n",
    "\\begin{bmatrix}\n",
    "    1 & 0.7 \\\\\n",
    "    0.7 & 1\n",
    "\\end{bmatrix}\n",
    "$$ \n",
    "\n",
    "\n",
    "> then use np.linalg.cholesky to check your answer "
   ]
  },
  {
   "cell_type": "code",
   "execution_count": 15,
   "metadata": {},
   "outputs": [
    {
     "name": "stdout",
     "output_type": "stream",
     "text": [
      "Matrix L1:\n",
      "[[1.         0.        ]\n",
      " [0.7        0.71414284]]\n",
      "Matrix L2:\n",
      "[[1.         0.        ]\n",
      " [0.7        0.71414284]]\n"
     ]
    }
   ],
   "source": [
    "# Code cell\n",
    "def Cholesky(A):\n",
    "    \n",
    "    n = len(A)\n",
    "    L = np.zeros((n, n))\n",
    "\n",
    "    for i in range(n):\n",
    "        for j in range(i + 1):\n",
    "            if i == j:\n",
    "                sum_term = sum(L[i, k] ** 2 for k in range(j))\n",
    "                L[i, j] = np.sqrt(A[i, i] - sum_term)\n",
    "            else:\n",
    "                sum_term = sum(L[i, k] * L[j, k] for k in range(j))\n",
    "                L[i, j] = (A[i, j] - sum_term) / L[j, j]\n",
    "\n",
    "    return L\n",
    "    \n",
    "    pass\n",
    "\n",
    "A = np.array([[1, 0.7],\n",
    "              [0.7, 1]])\n",
    "\n",
    "L = Cholesky(A)\n",
    "print(\"Matrix L1:\")\n",
    "print(L)\n",
    "M = np.linalg.cholesky(A)\n",
    "print(\"Matrix L2:\")\n",
    "print(M)"
   ]
  },
  {
   "cell_type": "markdown",
   "metadata": {},
   "source": [
    "#### 4-2-  Using Cholesky to generate correlated random numbers\n",
    "\n",
    "The co-variance Matrix of any random vector Y\n",
    " is given as $\\mathbf{E}(YY^T)$\n",
    ", where Y\n",
    " is a random column vector of size n×1\n",
    ". Now take a random vector, X\n",
    ", consisting of uncorrelated random variables with each random variable, $X_i$\n",
    ", having zero mean and unit variance 1\n",
    ". Since $X_i$\n",
    "'s are uncorrelated random variables with zero mean and unit variance, we have $\\mathbf{E}(X_i X_j^T)=δ_{ij}$\n",
    ". Hence,\n",
    "$$\n",
    "\\mathbf{E}(XX^T)=I\n",
    "$$\n",
    "To generate a random vector with a given covariance matrix $\\mathbf{C}$\n",
    ", look at the Cholesky decomposition of $C$\n",
    " i.e. $\\mathbf{C}=LL^T$\n",
    " \n",
    "Now look at the random vector $Z=LX$ :\n",
    "$$\n",
    "\\mathbf{E}(ZZ^T)=\\mathbf{E}\\left((LX)(LX)^T\\right)=L\\mathbf{E}(XX^T)L^T =LL^T=\\mathbf{C}\n",
    "$$\n",
    "Hence, the random vector $\\mathbf{Z}$\n",
    " has the desired co-variance matrix, $\\mathbf{C}$\n",
    "\n",
    " >Make the covarience matirx of $C$\n",
    "  $$\n",
    "\\mathbf{C}=\n",
    "\\begin{bmatrix}\n",
    "    1 & 0.7 \\\\\n",
    "    0.7 & 1\n",
    "\\end{bmatrix}\n",
    "$$ \n",
    "\n",
    " \n",
    " >Then we need another matrix with the desired standard deviation in the diagonal  $\\Tau$\n",
    " $$\n",
    "\\mathbf{\\Tau}=\n",
    "\\begin{bmatrix}\n",
    "    1 & 0 \\\\\n",
    "    0 & 2\n",
    "\\end{bmatrix}\n",
    "$$ \n",
    ">Then find the cholesky decomposition of $C$\n"
   ]
  },
  {
   "cell_type": "code",
   "execution_count": 21,
   "metadata": {},
   "outputs": [
    {
     "name": "stdout",
     "output_type": "stream",
     "text": [
      "Given Covariance Matrix C:\n",
      "[[1.  0.7]\n",
      " [0.7 1. ]]\n",
      "\n",
      "Cholesky Decomposition L:\n",
      "[[1.         0.        ]\n",
      " [0.7        0.71414284]]\n",
      "\n",
      "Covariance Matrix of Z:\n",
      "[[1.01618471 0.69927265]\n",
      " [0.69927265 0.99252707]]\n"
     ]
    }
   ],
   "source": [
    "# Given covariance matrix\n",
    "C = np.array([[1, 0.7], [0.7, 1]])\n",
    "\n",
    "# Cholesky decomposition\n",
    "L = np.linalg.cholesky(C)\n",
    "\n",
    "# Generate random vector X with zero mean and unit variance\n",
    "X = np.random.normal(0, 1, size=(2, 1000))\n",
    "\n",
    "# Generate correlated random vector Z\n",
    "Z = np.dot(L, X)\n",
    "\n",
    "# Calculate the covariance matrix of Z\n",
    "cov_Z = np.cov(Z)\n",
    "\n",
    "print(\"Given Covariance Matrix C:\")\n",
    "print(C)\n",
    "print(\"\\nCholesky Decomposition L:\")\n",
    "print(L)\n",
    "print(\"\\nCovariance Matrix of Z:\")\n",
    "print(cov_Z)"
   ]
  },
  {
   "cell_type": "markdown",
   "metadata": {},
   "source": [
    ">Now  generate values for 2 independent random variables and put them in  2*1000 matrix $X$ (1000 samples)\n",
    "\n",
    "you can use np.random.normal ( generates iid random variables each time )"
   ]
  },
  {
   "cell_type": "code",
   "execution_count": 23,
   "metadata": {},
   "outputs": [
    {
     "name": "stdout",
     "output_type": "stream",
     "text": [
      "Matrix X (samples from the beginning):\n",
      " [[ 0.17899766  0.18221507 -0.94549296  1.06239514  1.79280922]\n",
      " [ 0.72917866  1.13088485  0.64541333 -0.68163055 -0.40918019]]\n",
      "\n",
      "Matrix X (samples from the end):\n",
      " [[-0.65752878 -0.58956853 -0.04964698  0.30221736  0.49518293]\n",
      " [-0.19431435 -0.63985343  0.72124886 -0.20111453  1.27061608]]\n"
     ]
    }
   ],
   "source": [
    "# Number of samples\n",
    "num_samples = 1000\n",
    "\n",
    "# Generate independent random variables\n",
    "X1 = np.random.normal(0, 1, size=num_samples)\n",
    "X2 = np.random.normal(0, 1, size=num_samples)\n",
    "\n",
    "# Create matrix X with these variables\n",
    "X = np.vstack((X1, X2))\n",
    "\n",
    "# Display some samples from the beginning and some from the end\n",
    "print(\"Matrix X (samples from the beginning):\\n\", X[:, :5])\n",
    "print(\"\\nMatrix X (samples from the end):\\n\", X[:, -5:])"
   ]
  },
  {
   "cell_type": "markdown",
   "metadata": {},
   "source": [
    ">then calculate $\\mathbf{Z}=\\Tau L X$ and then plot Z[1] in base of Z[0] and X[1] in base of X[0] "
   ]
  },
  {
   "cell_type": "code",
   "execution_count": 25,
   "metadata": {},
   "outputs": [
    {
     "data": {
      "image/png": "[encoded data removed]",
      "text/plain": [
       "<Figure size 800x600 with 1 Axes>"
      ]
     },
     "metadata": {},
     "output_type": "display_data"
    },
    {
     "data": {
      "image/png": "[encoded data removed]",
      "text/plain": [
       "<Figure size 800x600 with 1 Axes>"
      ]
     },
     "metadata": {},
     "output_type": "display_data"
    }
   ],
   "source": [
    "import numpy as np\n",
    "import matplotlib.pyplot as plt\n",
    "\n",
    "# Number of samples\n",
    "num_samples = 1000\n",
    "\n",
    "# Generate independent random variables X1 and X2\n",
    "X1 = np.random.normal(0, 1, size=num_samples)\n",
    "X2 = np.random.normal(0, 1, size=num_samples)\n",
    "\n",
    "# Combine them into a matrix X\n",
    "X = np.vstack((X1, X2))\n",
    "\n",
    "# Given tau matrix Tau\n",
    "Tau = np.array([[1, 0], [0, 2]])\n",
    "\n",
    "# Given covariance matrix Tau\n",
    "C = np.array([[1, 0.7], [0.7, 1]])\n",
    "\n",
    "# Cholesky decomposition\n",
    "L = np.linalg.cholesky(C)\n",
    "\n",
    "# Generate correlated random vector Z\n",
    "Z = np.dot(np.dot(Tau, L), X)\n",
    "\n",
    "# Plot Z[1] against Z[0]\n",
    "plt.figure(figsize=(8, 6))\n",
    "plt.scatter(Z[0], Z[1], marker='o', color='blue', label=r'$Z$')\n",
    "plt.title(r'$Z[1]$ vs $Z[0]$')\n",
    "plt.xlabel(r'$Z[0]$')\n",
    "plt.ylabel(r'$Z[1]$')\n",
    "plt.legend()\n",
    "plt.grid(True)\n",
    "plt.show()\n",
    "\n",
    "# Plot X[1] against X[0]\n",
    "plt.figure(figsize=(8, 6))\n",
    "plt.scatter(X[0], X[1], marker='o', color='red', label=r'$X$')\n",
    "plt.title(r'$X[1]$ vs $X[0]$')\n",
    "plt.xlabel(r'$X[0]$')\n",
    "plt.ylabel(r'$X[1]$')\n",
    "plt.legend()\n",
    "plt.grid(True)\n",
    "plt.show()"
   ]
  },
  {
   "cell_type": "markdown",
   "metadata": {},
   "source": [
    ">now  check the correlation in generated samples with using np.correlate"
   ]
  },
  {
   "cell_type": "code",
   "execution_count": 27,
   "metadata": {},
   "outputs": [
    {
     "name": "stdout",
     "output_type": "stream",
     "text": [
      "Correlation in X[0] and X[1]: 0.036623454329152316\n",
      "Correlation in Z[0] and Z[1]: 0.7119319609487855\n",
      "Correlation in X[0] and Z[0]: 1.0\n",
      "Correlation in X[0] and Z[1]: 0.7119319609487855\n",
      "Correlation in X[1] and Z[0]: 0.036623454329152316\n",
      "Correlation in X[1] and Z[1]: 0.7278507428281071\n"
     ]
    }
   ],
   "source": [
    "import numpy as np\n",
    "\n",
    "# Number of samples\n",
    "num_samples = 1000\n",
    "\n",
    "# Generate independent random variables X1 and X2\n",
    "X1 = np.random.normal(0, 1, size=num_samples)\n",
    "X2 = np.random.normal(0, 1, size=num_samples)\n",
    "\n",
    "# Combine them into a matrix X\n",
    "X = np.vstack((X1, X2))\n",
    "\n",
    "# Given tau matrix Tau\n",
    "Tau = np.array([[1, 0], [0, 2]])\n",
    "\n",
    "# Given covariance matrix Tau\n",
    "C = np.array([[1, 0.7], [0.7, 1]])\n",
    "\n",
    "# Cholesky decomposition\n",
    "L = np.linalg.cholesky(C)\n",
    "\n",
    "# Generate correlated random vector Z\n",
    "Z = np.dot(np.dot(Tau, L), X)\n",
    "\n",
    "# Calculate and print correlation for all combinations\n",
    "correlation_X0_X1 = np.corrcoef(X[0], X[1])[0, 1]\n",
    "correlation_Z0_Z1 = np.corrcoef(Z[0], Z[1])[0, 1]\n",
    "correlation_X0_Z0 = np.corrcoef(X[0], Z[0])[0, 1]\n",
    "correlation_X0_Z1 = np.corrcoef(X[0], Z[1])[0, 1]\n",
    "correlation_X1_Z0 = np.corrcoef(X[1], Z[0])[0, 1]\n",
    "correlation_X1_Z1 = np.corrcoef(X[1], Z[1])[0, 1]\n",
    "\n",
    "print(f\"Correlation in X[0] and X[1]: {correlation_X0_X1}\")\n",
    "print(f\"Correlation in Z[0] and Z[1]: {correlation_Z0_Z1}\")\n",
    "print(f\"Correlation in X[0] and Z[0]: {correlation_X0_Z0}\")\n",
    "print(f\"Correlation in X[0] and Z[1]: {correlation_X0_Z1}\")\n",
    "print(f\"Correlation in X[1] and Z[0]: {correlation_X1_Z0}\")\n",
    "print(f\"Correlation in X[1] and Z[1]: {correlation_X1_Z1}\")\n",
    "\n"
   ]
  },
  {
   "cell_type": "markdown",
   "metadata": {},
   "source": [
    "## 5. Graphs (bonus)\n",
    "\n",
    "I suggest running this question's code cells in google colab to install the $\\textbf{PyGSP}$ package by  simply running the following code cell"
   ]
  },
  {
   "cell_type": "code",
   "execution_count": null,
   "metadata": {},
   "outputs": [],
   "source": [
    "!pip install pygsp"
   ]
  },
  {
   "cell_type": "markdown",
   "metadata": {},
   "source": [
    "\n",
    "<!-- ![]( graph.png) -->\n",
    "<div style=\"text-align:center\">\n",
    "    <img src=\"graph.png\" alt=\"Image\" />\n",
    "</div> \n",
    "\n",
    "\n",
    "For the directed graph above the adjacency matrix is : \n",
    "$\n",
    "A = \\begin{bmatrix}\n",
    "    0  & 1  & 1 & 0\\\\\n",
    "    -1  & 0  & 1 & 1 \\\\\n",
    "    -1 & -1 & 0 & 1 \\\\\n",
    "    0  & -1  & -1 & 0\n",
    "\\end{bmatrix}\n",
    "$ \n",
    "\n",
    "If we change the nodes numbering, the properties of the graph don't change yet the adjacency matrix changes. \n"
   ]
  },
  {
   "cell_type": "code",
   "execution_count": null,
   "metadata": {},
   "outputs": [],
   "source": [
    "# import required packages\n",
    "import numpy as np\n",
    "import matplotlib.pyplot as plt\n",
    "from pygsp import graphs, filters, plotting\n",
    "import cv2"
   ]
  },
  {
   "cell_type": "markdown",
   "metadata": {},
   "source": [
    "\n",
    "#### 5-1-  Introduction to graphs \n",
    ">construct the permutation matrix $\\textbf{P}$ by modifying the Identity matrix. then use it to number the graph's nodes in reverse order"
   ]
  },
  {
   "cell_type": "code",
   "execution_count": null,
   "metadata": {},
   "outputs": [],
   "source": [
    "# Code cell\n",
    "\n",
    "A_modified = ..."
   ]
  },
  {
   "cell_type": "code",
   "execution_count": null,
   "metadata": {},
   "outputs": [],
   "source": [
    "# Evaluation Cell\n",
    "assert A_modified == np.matrix('0 -1 -1 0; 1 0 -1 -1; 1 1 0 -1; 0 1 1 0'), \"wrong!\""
   ]
  },
  {
   "cell_type": "markdown",
   "metadata": {},
   "source": [
    "#### 5-2-  Graph image processing  \n",
    "\n",
    "Inpainting is a classical signal processing problem where we wish to fill in the missing values in a\n",
    "partially observed signal. This is here done in the context of image processing for inferring missing pixel values in\n",
    "an image. The signal in the image is considered to be the image matrix flattened while the image is modeled as a 2D grid graph.\n",
    "Inpainting for an image can be formulated as below:\n",
    "\n",
    "$$(M + \\alpha L)x = y$$\n",
    "\n",
    "where y is a partially observed graph signal (with missing values being 0), and M is a diagonal matrix that satisfies:\n",
    " $$ M(i, i)=   \\left\\{\n",
    "\\begin{array}{ll}\n",
    "      1, & if & y(i) & is & observed, \\\\\n",
    "      0, & if & y(i) & is & not & observed, \\\\\n",
    "\\end{array} \n",
    "\\right.  $$\n",
    "\n",
    "The Equation tries to find an x that nearly matches the observed values in y, and at the same time\n",
    "being smooth on the graph (the image here). The regularisation parameter α controls the trade-off between the data fidelity term and the\n",
    "smoothness prior. The solution can therefore be considered as an inpainted version of the partially observed signal."
   ]
  },
  {
   "cell_type": "markdown",
   "metadata": {},
   "source": [
    ">Use the cv2 package to load a grayscale version of the cameraman image with a relatively low resolution, 64 by 64, then display the image using matplotlib.pyplot\n",
    "\n",
    "- do not forget to convert RGB to gray to reduce the 3 color channels to one"
   ]
  },
  {
   "cell_type": "code",
   "execution_count": null,
   "metadata": {},
   "outputs": [],
   "source": [
    "# Code cell"
   ]
  },
  {
   "cell_type": "markdown",
   "metadata": {},
   "source": [
    ">Now flatten the image matrix to get the signal\\\n",
    ">Then, construct the diagonal matrix M which has its diagonal 0 except for $p = 50%$ of its elements that are randomly set to 1\\\n",
    ">At last, apply the observasion matrix M to the signal and construct y "
   ]
  },
  {
   "cell_type": "code",
   "execution_count": null,
   "metadata": {},
   "outputs": [],
   "source": [
    "# Code cell"
   ]
  },
  {
   "cell_type": "code",
   "execution_count": null,
   "metadata": {},
   "outputs": [],
   "source": [
    "# do not edit this cell \n",
    "G = graphs.Grid2d(64,64)\n",
    "L = G.L"
   ]
  },
  {
   "cell_type": "markdown",
   "metadata": {},
   "source": [
    ">To get x, apply the $\\textbf{Cholesky decomposition}$ to ( $M+\\alpha L$ ) and then solve the stated equation applying np.linalg.inv() to the two terms multiplied by x ( note that L is given by the code cell above )\n",
    "- check the soloution with \"np.linalg.solve()\""
   ]
  },
  {
   "cell_type": "code",
   "execution_count": null,
   "metadata": {},
   "outputs": [],
   "source": [
    "# Code cell"
   ]
  },
  {
   "cell_type": "markdown",
   "metadata": {},
   "source": [
    ">For values of alpha 0.001 , 0.1 , 10 and p values 50 , 75 display the original, the damaged and the Inpainted image in subplots"
   ]
  },
  {
   "cell_type": "code",
   "execution_count": null,
   "metadata": {},
   "outputs": [],
   "source": [
    "# Code cell"
   ]
  }
 ],
 "metadata": {
  "colab": {
   "provenance": []
  },
  "kernelspec": {
   "display_name": "Python 3 (ipykernel)",
   "language": "python",
   "name": "python3"
  },
  "language_info": {
   "codemirror_mode": {
    "name": "ipython",
    "version": 3
   },
   "file_extension": ".py",
   "mimetype": "text/x-python",
   "name": "python",
   "nbconvert_exporter": "python",
   "pygments_lexer": "ipython3",
   "version": "3.11.4"
  },
  "vscode": {
   "interpreter": {
    "hash": "a552c2ea7a7b6736ba4a8b66efcb40eda8d77c5e9d980e5b81f29aecaaefb085"
   }
  }
 },
 "nbformat": 4,
 "nbformat_minor": 1
}
